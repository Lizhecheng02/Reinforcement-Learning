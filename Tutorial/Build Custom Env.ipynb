{
 "cells": [
  {
   "cell_type": "code",
   "execution_count": 1,
   "id": "7088e00d",
   "metadata": {},
   "outputs": [],
   "source": [
    "import numpy as np \n",
    "import random \n",
    "\n",
    "from tensorflow.keras.models import Sequential\n",
    "from tensorflow.keras.layers import Dense, Flatten\n",
    "from tensorflow.keras.optimizers import Adam \n",
    "from gym import Env \n",
    "from gym.spaces import Discrete, Box\n",
    "from rl.agents import DQNAgent\n",
    "from rl.policy import BoltzmannQPolicy\n",
    "from rl.memory import SequentialMemory"
   ]
  },
  {
   "cell_type": "code",
   "execution_count": 2,
   "id": "6c969aa2",
   "metadata": {},
   "outputs": [],
   "source": [
    "class ShowerEnv(Env):\n",
    "    def __init__(self):\n",
    "        self.action_space = Discrete(3)\n",
    "        self.observation_space = Box(low=np.array([0]), high=np.array([100]))\n",
    "        self.state = 38 + random.randint(-3, 3)\n",
    "        self.shower_length = 60 \n",
    "        \n",
    "    def step(self, action):\n",
    "        self.state += action - 1 \n",
    "        self.shower_length -= 1 \n",
    "        \n",
    "        if self.state >=37 and self.state <= 39:\n",
    "            reward = 1 \n",
    "        else:\n",
    "            reward = -1 \n",
    "        \n",
    "        if self.shower_length <=0:\n",
    "            done = True \n",
    "        else:\n",
    "            done = False \n",
    "        \n",
    "        info = {}\n",
    "        return self.state, reward, done, info \n",
    "    \n",
    "    def render(self):\n",
    "        pass \n",
    "    \n",
    "    def reset(self):\n",
    "        self.state = 38 + random.randint(-3, 3)\n",
    "        self.shower_length = 60 \n",
    "        return self.state"
   ]
  },
  {
   "cell_type": "code",
   "execution_count": 3,
   "id": "2b116d21",
   "metadata": {},
   "outputs": [
    {
     "name": "stderr",
     "output_type": "stream",
     "text": [
      "C:\\Users\\86183\\anaconda23-3\\lib\\site-packages\\gym\\logger.py:30: UserWarning: \u001b[33mWARN: Box bound precision lowered by casting to float32\u001b[0m\n",
      "  warnings.warn(colorize('%s: %s'%('WARN', msg % args), 'yellow'))\n"
     ]
    }
   ],
   "source": [
    "env = ShowerEnv()"
   ]
  },
  {
   "cell_type": "code",
   "execution_count": 4,
   "id": "4ebaa90c",
   "metadata": {},
   "outputs": [
    {
     "data": {
      "text/plain": [
       "1"
      ]
     },
     "execution_count": 4,
     "metadata": {},
     "output_type": "execute_result"
    }
   ],
   "source": [
    "env.action_space.sample()"
   ]
  },
  {
   "cell_type": "code",
   "execution_count": 5,
   "id": "45a60185",
   "metadata": {},
   "outputs": [
    {
     "data": {
      "text/plain": [
       "array([71.777504], dtype=float32)"
      ]
     },
     "execution_count": 5,
     "metadata": {},
     "output_type": "execute_result"
    }
   ],
   "source": [
    "env.observation_space.sample()"
   ]
  },
  {
   "cell_type": "code",
   "execution_count": 6,
   "id": "65cedec9",
   "metadata": {},
   "outputs": [
    {
     "name": "stdout",
     "output_type": "stream",
     "text": [
      "Episode:1 Score:-24\n",
      "Episode:2 Score:-56\n",
      "Episode:3 Score:-60\n",
      "Episode:4 Score:6\n",
      "Episode:5 Score:-48\n",
      "Episode:6 Score:-30\n",
      "Episode:7 Score:-28\n",
      "Episode:8 Score:-58\n",
      "Episode:9 Score:14\n",
      "Episode:10 Score:-20\n"
     ]
    }
   ],
   "source": [
    "episodes = 10 \n",
    "for episode in range(1, episodes + 1):\n",
    "    state = env.reset()\n",
    "#     terminated = False\n",
    "#     truncated = False\n",
    "    done = False\n",
    "    score = 0\n",
    "    \n",
    "    while not done:\n",
    "#         env.render() \n",
    "        action = env.action_space.sample()\n",
    "        n_state, reward, done, info = env.step(action)  # new version needs five ouputs\n",
    "        score += reward\n",
    "        \n",
    "    print('Episode:{} Score:{}'.format(episode, score))\n",
    "# env.close()"
   ]
  },
  {
   "cell_type": "code",
   "execution_count": 7,
   "id": "d54a00bb",
   "metadata": {},
   "outputs": [],
   "source": [
    "states = env.observation_space.shape \n",
    "actions = env.action_space.n "
   ]
  },
  {
   "cell_type": "code",
   "execution_count": 8,
   "id": "573749f6",
   "metadata": {},
   "outputs": [
    {
     "data": {
      "text/plain": [
       "((1,), 3)"
      ]
     },
     "execution_count": 8,
     "metadata": {},
     "output_type": "execute_result"
    }
   ],
   "source": [
    "states, actions"
   ]
  },
  {
   "cell_type": "code",
   "execution_count": 9,
   "id": "6468283f",
   "metadata": {},
   "outputs": [],
   "source": [
    "def build_model(states, actions):\n",
    "    model = Sequential() \n",
    "    model.add(Dense(24, activation='relu', input_shape=states))\n",
    "    model.add(Dense(24, activation='relu'))\n",
    "    model.add(Dense(actions, activation='linear'))\n",
    "    return model "
   ]
  },
  {
   "cell_type": "code",
   "execution_count": 10,
   "id": "4cc8619b",
   "metadata": {},
   "outputs": [],
   "source": [
    "model = build_model(states, actions)"
   ]
  },
  {
   "cell_type": "code",
   "execution_count": 11,
   "id": "a1613f92",
   "metadata": {},
   "outputs": [
    {
     "name": "stdout",
     "output_type": "stream",
     "text": [
      "Model: \"sequential\"\n",
      "_________________________________________________________________\n",
      " Layer (type)                Output Shape              Param #   \n",
      "=================================================================\n",
      " dense (Dense)               (None, 24)                48        \n",
      "                                                                 \n",
      " dense_1 (Dense)             (None, 24)                600       \n",
      "                                                                 \n",
      " dense_2 (Dense)             (None, 3)                 75        \n",
      "                                                                 \n",
      "=================================================================\n",
      "Total params: 723\n",
      "Trainable params: 723\n",
      "Non-trainable params: 0\n",
      "_________________________________________________________________\n"
     ]
    }
   ],
   "source": [
    "model.summary()"
   ]
  },
  {
   "cell_type": "code",
   "execution_count": 12,
   "id": "cd217dde",
   "metadata": {},
   "outputs": [],
   "source": [
    "def build_agent(model, actions):\n",
    "    policy = BoltzmannQPolicy() \n",
    "    memory = SequentialMemory(limit=50000, window_length=1)\n",
    "    dqn = DQNAgent(model=model, memory=memory, policy=policy, \n",
    "                   nb_actions=actions, nb_steps_warmup=10, target_model_update=1e-2)\n",
    "    return dqn "
   ]
  },
  {
   "cell_type": "code",
   "execution_count": 13,
   "id": "d694232a",
   "metadata": {},
   "outputs": [
    {
     "name": "stdout",
     "output_type": "stream",
     "text": [
      "Training for 50000 steps ...\n",
      "Interval 1 (0 steps performed)\n",
      "\r",
      "    1/10000 [..............................] - ETA: 11:28 - reward: -1.0000"
     ]
    },
    {
     "name": "stderr",
     "output_type": "stream",
     "text": [
      "C:\\Users\\86183\\anaconda23-3\\lib\\site-packages\\keras\\engine\\training_v1.py:2356: UserWarning: `Model.state_updates` will be removed in a future version. This property should not be used in TensorFlow 2.0, as `updates` are applied automatically.\n",
      "  updates=self.state_updates,\n",
      "C:\\Users\\86183\\anaconda23-3\\lib\\site-packages\\rl\\memory.py:37: UserWarning: Not enough entries to sample without replacement. Consider increasing your warm-up phase to avoid oversampling!\n",
      "  warnings.warn('Not enough entries to sample without replacement. Consider increasing your warm-up phase to avoid oversampling!')\n"
     ]
    },
    {
     "name": "stdout",
     "output_type": "stream",
     "text": [
      "10000/10000 [==============================] - 41s 4ms/step - reward: -0.3110\n",
      "166 episodes - episode_reward: -18.867 [-60.000, 36.000] - loss: 3.363 - mae: 3.940 - mean_q: -3.670\n",
      "\n",
      "Interval 2 (10000 steps performed)\n",
      "10000/10000 [==============================] - 39s 4ms/step - reward: -0.8764\n",
      "167 episodes - episode_reward: -52.228 [-60.000, 32.000] - loss: 3777.088 - mae: 208.726 - mean_q: 326.979\n",
      "\n",
      "Interval 3 (20000 steps performed)\n",
      "10000/10000 [==============================] - 44s 4ms/step - reward: -0.5998\n",
      "167 episodes - episode_reward: -36.036 [-60.000, 44.000] - loss: 5099.691 - mae: 415.355 - mean_q: 629.676\n",
      "\n",
      "Interval 4 (30000 steps performed)\n",
      "10000/10000 [==============================] - 44s 4ms/step - reward: -0.9046\n",
      "166 episodes - episode_reward: -54.289 [-60.000, -4.000] - loss: 913.950 - mae: 192.217 - mean_q: 288.916\n",
      "\n",
      "Interval 5 (40000 steps performed)\n",
      "10000/10000 [==============================] - 55s 5ms/step - reward: -0.4426\n",
      "done, took 222.771 seconds\n"
     ]
    },
    {
     "data": {
      "text/plain": [
       "<keras.callbacks.History at 0x2241b16da20>"
      ]
     },
     "execution_count": 13,
     "metadata": {},
     "output_type": "execute_result"
    }
   ],
   "source": [
    "dqn = build_agent(model, actions)\n",
    "dqn.compile(Adam(learning_rate=1e-3), metrics=['mae'])\n",
    "dqn.fit(env, nb_steps=50000, visualize=False, verbose=1)"
   ]
  },
  {
   "cell_type": "code",
   "execution_count": 14,
   "id": "7b0074a1",
   "metadata": {},
   "outputs": [
    {
     "name": "stdout",
     "output_type": "stream",
     "text": [
      "Testing for 100 episodes ...\n",
      "Episode 1: reward: -58.000, steps: 60\n",
      "Episode 2: reward: -58.000, steps: 60\n",
      "Episode 3: reward: -60.000, steps: 60\n",
      "Episode 4: reward: -56.000, steps: 60\n",
      "Episode 5: reward: -54.000, steps: 60\n",
      "Episode 6: reward: -58.000, steps: 60\n",
      "Episode 7: reward: -60.000, steps: 60\n",
      "Episode 8: reward: -58.000, steps: 60\n",
      "Episode 9: reward: -58.000, steps: 60\n",
      "Episode 10: reward: -58.000, steps: 60\n",
      "Episode 11: reward: -54.000, steps: 60\n",
      "Episode 12: reward: -60.000, steps: 60\n",
      "Episode 13: reward: -56.000, steps: 60\n",
      "Episode 14: reward: -56.000, steps: 60\n",
      "Episode 15: reward: -58.000, steps: 60\n",
      "Episode 16: reward: -60.000, steps: 60\n",
      "Episode 17: reward: -54.000, steps: 60\n",
      "Episode 18: reward: -56.000, steps: 60\n",
      "Episode 19: reward: -60.000, steps: 60\n",
      "Episode 20: reward: -60.000, steps: 60\n",
      "Episode 21: reward: -56.000, steps: 60\n",
      "Episode 22: reward: -60.000, steps: 60\n",
      "Episode 23: reward: -54.000, steps: 60\n",
      "Episode 24: reward: -54.000, steps: 60\n",
      "Episode 25: reward: -60.000, steps: 60\n",
      "Episode 26: reward: -54.000, steps: 60\n",
      "Episode 27: reward: -54.000, steps: 60\n",
      "Episode 28: reward: -56.000, steps: 60\n",
      "Episode 29: reward: -54.000, steps: 60\n",
      "Episode 30: reward: -60.000, steps: 60\n",
      "Episode 31: reward: -56.000, steps: 60\n",
      "Episode 32: reward: -58.000, steps: 60\n",
      "Episode 33: reward: -54.000, steps: 60\n",
      "Episode 34: reward: -56.000, steps: 60\n",
      "Episode 35: reward: -60.000, steps: 60\n",
      "Episode 36: reward: -60.000, steps: 60\n",
      "Episode 37: reward: -60.000, steps: 60\n",
      "Episode 38: reward: -54.000, steps: 60\n",
      "Episode 39: reward: -54.000, steps: 60\n",
      "Episode 40: reward: -60.000, steps: 60\n",
      "Episode 41: reward: -56.000, steps: 60\n",
      "Episode 42: reward: -54.000, steps: 60\n",
      "Episode 43: reward: -60.000, steps: 60\n",
      "Episode 44: reward: -60.000, steps: 60\n",
      "Episode 45: reward: -60.000, steps: 60\n",
      "Episode 46: reward: -60.000, steps: 60\n",
      "Episode 47: reward: -60.000, steps: 60\n",
      "Episode 48: reward: -60.000, steps: 60\n",
      "Episode 49: reward: -60.000, steps: 60\n",
      "Episode 50: reward: -58.000, steps: 60\n",
      "Episode 51: reward: -60.000, steps: 60\n",
      "Episode 52: reward: -60.000, steps: 60\n",
      "Episode 53: reward: -60.000, steps: 60\n",
      "Episode 54: reward: -58.000, steps: 60\n",
      "Episode 55: reward: -54.000, steps: 60\n",
      "Episode 56: reward: -56.000, steps: 60\n",
      "Episode 57: reward: -56.000, steps: 60\n",
      "Episode 58: reward: -60.000, steps: 60\n",
      "Episode 59: reward: -54.000, steps: 60\n",
      "Episode 60: reward: -58.000, steps: 60\n",
      "Episode 61: reward: -60.000, steps: 60\n",
      "Episode 62: reward: -58.000, steps: 60\n",
      "Episode 63: reward: -60.000, steps: 60\n",
      "Episode 64: reward: -54.000, steps: 60\n",
      "Episode 65: reward: -54.000, steps: 60\n",
      "Episode 66: reward: -60.000, steps: 60\n",
      "Episode 67: reward: -58.000, steps: 60\n",
      "Episode 68: reward: -54.000, steps: 60\n",
      "Episode 69: reward: -60.000, steps: 60\n",
      "Episode 70: reward: -54.000, steps: 60\n",
      "Episode 71: reward: -56.000, steps: 60\n",
      "Episode 72: reward: -58.000, steps: 60\n",
      "Episode 73: reward: -60.000, steps: 60\n",
      "Episode 74: reward: -60.000, steps: 60\n",
      "Episode 75: reward: -54.000, steps: 60\n",
      "Episode 76: reward: -60.000, steps: 60\n",
      "Episode 77: reward: -60.000, steps: 60\n",
      "Episode 78: reward: -60.000, steps: 60\n",
      "Episode 79: reward: -60.000, steps: 60\n",
      "Episode 80: reward: -58.000, steps: 60\n",
      "Episode 81: reward: -60.000, steps: 60\n",
      "Episode 82: reward: -60.000, steps: 60\n",
      "Episode 83: reward: -54.000, steps: 60\n",
      "Episode 84: reward: -60.000, steps: 60\n",
      "Episode 85: reward: -58.000, steps: 60\n",
      "Episode 86: reward: -54.000, steps: 60\n",
      "Episode 87: reward: -54.000, steps: 60\n",
      "Episode 88: reward: -60.000, steps: 60\n",
      "Episode 89: reward: -60.000, steps: 60\n",
      "Episode 90: reward: -60.000, steps: 60\n",
      "Episode 91: reward: -60.000, steps: 60\n",
      "Episode 92: reward: -56.000, steps: 60\n",
      "Episode 93: reward: -60.000, steps: 60\n",
      "Episode 94: reward: -58.000, steps: 60\n",
      "Episode 95: reward: -60.000, steps: 60\n",
      "Episode 96: reward: -58.000, steps: 60\n",
      "Episode 97: reward: -54.000, steps: 60\n",
      "Episode 98: reward: -54.000, steps: 60\n",
      "Episode 99: reward: -60.000, steps: 60\n",
      "Episode 100: reward: -54.000, steps: 60\n",
      "-57.62\n"
     ]
    }
   ],
   "source": [
    "scores = dqn.test(env, nb_episodes=100, visualize=False)\n",
    "print(np.mean(scores.history['episode_reward']))\n",
    "env.close()"
   ]
  }
 ],
 "metadata": {
  "kernelspec": {
   "display_name": "Python 3 (ipykernel)",
   "language": "python",
   "name": "python3"
  },
  "language_info": {
   "codemirror_mode": {
    "name": "ipython",
    "version": 3
   },
   "file_extension": ".py",
   "mimetype": "text/x-python",
   "name": "python",
   "nbconvert_exporter": "python",
   "pygments_lexer": "ipython3",
   "version": "3.10.9"
  }
 },
 "nbformat": 4,
 "nbformat_minor": 5
}
