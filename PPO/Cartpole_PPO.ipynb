{
  "nbformat": 4,
  "nbformat_minor": 0,
  "metadata": {
    "colab": {
      "provenance": [],
      "gpuType": "T4"
    },
    "kernelspec": {
      "name": "python3",
      "display_name": "Python 3"
    },
    "language_info": {
      "name": "python"
    },
    "accelerator": "GPU"
  },
  "cells": [
    {
      "cell_type": "code",
      "metadata": {
        "id": "dHmsA7tGytwI"
      },
      "source": [
        "import gym\n",
        "import matplotlib.pyplot as plt\n",
        "import numpy as np\n",
        "import seaborn as sns\n",
        "import torch\n",
        "from torch import nn\n",
        "from torch import optim\n",
        "from torch.distributions.categorical import Categorical\n",
        "\n",
        "sns.set()"
      ],
      "execution_count": 1,
      "outputs": []
    },
    {
      "cell_type": "code",
      "metadata": {
        "id": "MR6Glrg0bXo6",
        "colab": {
          "base_uri": "https://localhost:8080/"
        },
        "outputId": "e2130e93-fffd-423f-edfd-7de5bec2c54f"
      },
      "source": [
        "DEVICE = \"cuda\""
      ],
      "execution_count": 2,
      "outputs": [
        {
          "output_type": "stream",
          "name": "stderr",
          "text": [
            "/usr/local/lib/python3.10/dist-packages/ipykernel/ipkernel.py:283: DeprecationWarning: `should_run_async` will not call `transform_cell` automatically in the future. Please pass the result to `transformed_cell` argument and any exception that happen during thetransform in `preprocessing_exc_tuple` in IPython 7.17 and above.\n",
            "  and should_run_async(code)\n"
          ]
        }
      ]
    },
    {
      "cell_type": "code",
      "metadata": {
        "id": "99naEvVVzjpt"
      },
      "source": [
        "# Policy and value model\n",
        "class ActorCriticNetwork(nn.Module):\n",
        "  def __init__(self, obs_space_size, action_space_size):\n",
        "    super().__init__()\n",
        "\n",
        "    self.shared_layers = nn.Sequential(\n",
        "        nn.Linear(obs_space_size, 64),\n",
        "        nn.ReLU(),\n",
        "        nn.Linear(64, 64),\n",
        "        nn.ReLU())\n",
        "\n",
        "    self.policy_layers = nn.Sequential(\n",
        "        nn.Linear(64, 64),\n",
        "        nn.ReLU(),\n",
        "        nn.Linear(64, action_space_size))\n",
        "\n",
        "    self.value_layers = nn.Sequential(\n",
        "        nn.Linear(64, 64),\n",
        "        nn.ReLU(),\n",
        "        nn.Linear(64, 1))\n",
        "\n",
        "  def value(self, obs):\n",
        "    z = self.shared_layers(obs)\n",
        "    value = self.value_layers(z)\n",
        "    return value\n",
        "\n",
        "  def policy(self, obs):\n",
        "    z = self.shared_layers(obs)\n",
        "    policy_logits = self.policy_layers(z)\n",
        "    return policy_logits\n",
        "\n",
        "  def forward(self, obs):\n",
        "    z = self.shared_layers(obs)\n",
        "    policy_logits = self.policy_layers(z)\n",
        "    value = self.value_layers(z)\n",
        "    return policy_logits, value"
      ],
      "execution_count": 3,
      "outputs": []
    },
    {
      "cell_type": "code",
      "metadata": {
        "id": "PSPZ4GPKzmlI"
      },
      "source": [
        "class PPOTrainer():\n",
        "  def __init__(self,\n",
        "              actor_critic,\n",
        "              ppo_clip_val=0.2,\n",
        "              target_kl_div=0.01,\n",
        "              max_policy_train_iters=80,\n",
        "              value_train_iters=80,\n",
        "              policy_lr=3e-4,\n",
        "              value_lr=1e-2):\n",
        "    self.ac = actor_critic\n",
        "    self.ppo_clip_val = ppo_clip_val\n",
        "    self.target_kl_div = target_kl_div\n",
        "    self.max_policy_train_iters = max_policy_train_iters\n",
        "    self.value_train_iters = value_train_iters\n",
        "\n",
        "    policy_params = list(self.ac.shared_layers.parameters()) + \\\n",
        "        list(self.ac.policy_layers.parameters())\n",
        "    self.policy_optim = optim.Adam(policy_params, lr=policy_lr)\n",
        "\n",
        "    value_params = list(self.ac.shared_layers.parameters()) + \\\n",
        "        list(self.ac.value_layers.parameters())\n",
        "    self.value_optim = optim.Adam(value_params, lr=value_lr)\n",
        "\n",
        "  def train_policy(self, obs, acts, old_log_probs, gaes):\n",
        "    for _ in range(self.max_policy_train_iters):\n",
        "      self.policy_optim.zero_grad()\n",
        "\n",
        "      new_logits = self.ac.policy(obs)\n",
        "      new_logits = Categorical(logits=new_logits)\n",
        "      new_log_probs = new_logits.log_prob(acts)\n",
        "\n",
        "      policy_ratio = torch.exp(new_log_probs - old_log_probs)\n",
        "      clipped_ratio = policy_ratio.clamp(\n",
        "          1 - self.ppo_clip_val, 1 + self.ppo_clip_val)\n",
        "\n",
        "      clipped_loss = clipped_ratio * gaes\n",
        "      full_loss = policy_ratio * gaes\n",
        "      policy_loss = -torch.min(full_loss, clipped_loss).mean()\n",
        "\n",
        "      policy_loss.backward()\n",
        "      self.policy_optim.step()\n",
        "\n",
        "      kl_div = (old_log_probs - new_log_probs).mean()\n",
        "      if kl_div >= self.target_kl_div:\n",
        "        break\n",
        "\n",
        "  def train_value(self, obs, returns):\n",
        "    for _ in range(self.value_train_iters):\n",
        "      self.value_optim.zero_grad()\n",
        "\n",
        "      values = self.ac.value(obs)\n",
        "      value_loss = (returns - values) ** 2\n",
        "      value_loss = value_loss.mean()\n",
        "\n",
        "      value_loss.backward()\n",
        "      self.value_optim.step()"
      ],
      "execution_count": 4,
      "outputs": []
    },
    {
      "cell_type": "code",
      "metadata": {
        "id": "E4kMg80sbgrj"
      },
      "source": [
        "def discount_rewards(rewards, gamma=0.99):\n",
        "    \"\"\"\n",
        "    Return discounted rewards based on the given rewards and gamma param.\n",
        "    \"\"\"\n",
        "    new_rewards = [float(rewards[-1])]\n",
        "    for i in reversed(range(len(rewards)-1)):\n",
        "        new_rewards.append(float(rewards[i]) + gamma * new_rewards[-1])\n",
        "    return np.array(new_rewards[::-1])\n",
        "\n",
        "def calculate_gaes(rewards, values, gamma=0.99, decay=0.97):\n",
        "    \"\"\"\n",
        "    Return the General Advantage Estimates from the given rewards and values.\n",
        "    Paper: https://arxiv.org/pdf/1506.02438.pdf\n",
        "    \"\"\"\n",
        "    next_values = np.concatenate([values[1:], [0]])\n",
        "    deltas = [rew + gamma * next_val - val for rew, val, next_val in zip(rewards, values, next_values)]\n",
        "\n",
        "    gaes = [deltas[-1]]\n",
        "    for i in reversed(range(len(deltas)-1)):\n",
        "        gaes.append(deltas[i] + decay * gamma * gaes[-1])\n",
        "\n",
        "    return np.array(gaes[::-1])"
      ],
      "execution_count": 5,
      "outputs": []
    },
    {
      "cell_type": "code",
      "metadata": {
        "id": "RZOgKa5nzG5Y"
      },
      "source": [
        "def rollout(model, env, max_steps=1000):\n",
        "    \"\"\"\n",
        "    Performs a single rollout.\n",
        "    Returns training data in the shape (n_steps, observation_shape)\n",
        "    and the cumulative reward.\n",
        "    \"\"\"\n",
        "    ### Create data storage\n",
        "    train_data = [[], [], [], [], []] # obs, act, reward, values, act_log_probs\n",
        "    obs = env.reset()\n",
        "\n",
        "    ep_reward = 0\n",
        "    for _ in range(max_steps):\n",
        "        logits, val = model(torch.tensor([obs], dtype=torch.float32,\n",
        "                                         device=DEVICE))\n",
        "        act_distribution = Categorical(logits=logits)\n",
        "        act = act_distribution.sample()\n",
        "        act_log_prob = act_distribution.log_prob(act).item()\n",
        "\n",
        "        act, val = act.item(), val.item()\n",
        "\n",
        "        next_obs, reward, done, _ = env.step(act)\n",
        "\n",
        "        for i, item in enumerate((obs, act, reward, val, act_log_prob)):\n",
        "          train_data[i].append(item)\n",
        "\n",
        "        obs = next_obs\n",
        "        ep_reward += reward\n",
        "        if done:\n",
        "            break\n",
        "\n",
        "    train_data = [np.asarray(x) for x in train_data]\n",
        "\n",
        "    ### Do train data filtering\n",
        "    train_data[3] = calculate_gaes(train_data[2], train_data[3])\n",
        "\n",
        "    return train_data, ep_reward"
      ],
      "execution_count": 6,
      "outputs": []
    },
    {
      "cell_type": "code",
      "metadata": {
        "id": "EEHYszzqzcFe",
        "colab": {
          "base_uri": "https://localhost:8080/"
        },
        "outputId": "66491cf2-6750-4e9b-abcb-25d86750979c"
      },
      "source": [
        "env = gym.make('CartPole-v0')\n",
        "model = ActorCriticNetwork(env.observation_space.shape[0], env.action_space.n)\n",
        "model = model.to(DEVICE)\n",
        "train_data, reward = rollout(model, env) # Test rollout function"
      ],
      "execution_count": 7,
      "outputs": [
        {
          "output_type": "stream",
          "name": "stderr",
          "text": [
            "/usr/local/lib/python3.10/dist-packages/gym/envs/registration.py:593: UserWarning: \u001b[33mWARN: The environment CartPole-v0 is out of date. You should consider upgrading to version `v1`.\u001b[0m\n",
            "  logger.warn(\n",
            "/usr/local/lib/python3.10/dist-packages/gym/core.py:317: DeprecationWarning: \u001b[33mWARN: Initializing wrapper in old step API which returns one bool instead of two. It is recommended to set `new_step_api=True` to use new step API. This will be the default behaviour in future.\u001b[0m\n",
            "  deprecation(\n",
            "/usr/local/lib/python3.10/dist-packages/gym/wrappers/step_api_compatibility.py:39: DeprecationWarning: \u001b[33mWARN: Initializing environment in old step API which returns one bool instead of two. It is recommended to set `new_step_api=True` to use new step API. This will be the default behaviour in future.\u001b[0m\n",
            "  deprecation(\n",
            "<ipython-input-6-48c5a50c7c0d>:13: UserWarning: Creating a tensor from a list of numpy.ndarrays is extremely slow. Please consider converting the list to a single numpy.ndarray with numpy.array() before converting to a tensor. (Triggered internally at ../torch/csrc/utils/tensor_new.cpp:261.)\n",
            "  logits, val = model(torch.tensor([obs], dtype=torch.float32,\n"
          ]
        }
      ]
    },
    {
      "cell_type": "code",
      "metadata": {
        "id": "J6-bk718ch2E"
      },
      "source": [
        "# Define training params\n",
        "n_episodes = 200\n",
        "print_freq = 20\n",
        "\n",
        "ppo = PPOTrainer(\n",
        "    model,\n",
        "    policy_lr = 3e-4,\n",
        "    value_lr = 1e-3,\n",
        "    target_kl_div = 0.02,\n",
        "    max_policy_train_iters = 40,\n",
        "    value_train_iters = 40)"
      ],
      "execution_count": 8,
      "outputs": []
    },
    {
      "cell_type": "code",
      "metadata": {
        "id": "3u86EivSdH_g",
        "colab": {
          "base_uri": "https://localhost:8080/"
        },
        "outputId": "089e24b7-11ed-4b3a-e016-fb88e410614f"
      },
      "source": [
        "# Training loop\n",
        "ep_rewards = []\n",
        "for episode_idx in range(n_episodes):\n",
        "  # Perform rollout\n",
        "  train_data, reward = rollout(model, env)\n",
        "  ep_rewards.append(reward)\n",
        "\n",
        "  # Shuffle\n",
        "  permute_idxs = np.random.permutation(len(train_data[0]))\n",
        "\n",
        "  # Policy data\n",
        "  obs = torch.tensor(train_data[0][permute_idxs],\n",
        "                     dtype=torch.float32, device=DEVICE)\n",
        "  acts = torch.tensor(train_data[1][permute_idxs],\n",
        "                      dtype=torch.int32, device=DEVICE)\n",
        "  gaes = torch.tensor(train_data[3][permute_idxs],\n",
        "                      dtype=torch.float32, device=DEVICE)\n",
        "  act_log_probs = torch.tensor(train_data[4][permute_idxs],\n",
        "                               dtype=torch.float32, device=DEVICE)\n",
        "\n",
        "  # Value data\n",
        "  returns = discount_rewards(train_data[2])[permute_idxs]\n",
        "  returns = torch.tensor(returns, dtype=torch.float32, device=DEVICE)\n",
        "\n",
        "  # Train model\n",
        "  ppo.train_policy(obs, acts, act_log_probs, gaes)\n",
        "  ppo.train_value(obs, returns)\n",
        "\n",
        "  if (episode_idx + 1) % print_freq == 0:\n",
        "    print('Episode {} | Avg Reward {:.1f}'.format(\n",
        "        episode_idx + 1, np.mean(ep_rewards[-print_freq:])))"
      ],
      "execution_count": 9,
      "outputs": [
        {
          "output_type": "stream",
          "name": "stderr",
          "text": [
            "/usr/local/lib/python3.10/dist-packages/ipykernel/ipkernel.py:283: DeprecationWarning: `should_run_async` will not call `transform_cell` automatically in the future. Please pass the result to `transformed_cell` argument and any exception that happen during thetransform in `preprocessing_exc_tuple` in IPython 7.17 and above.\n",
            "  and should_run_async(code)\n"
          ]
        },
        {
          "output_type": "stream",
          "name": "stdout",
          "text": [
            "Episode 20 | Avg Reward 13.6\n",
            "Episode 40 | Avg Reward 85.6\n",
            "Episode 60 | Avg Reward 113.5\n",
            "Episode 80 | Avg Reward 195.2\n",
            "Episode 100 | Avg Reward 173.0\n",
            "Episode 120 | Avg Reward 179.4\n",
            "Episode 140 | Avg Reward 162.1\n",
            "Episode 160 | Avg Reward 197.8\n",
            "Episode 180 | Avg Reward 191.1\n",
            "Episode 200 | Avg Reward 194.8\n"
          ]
        }
      ]
    }
  ]
}